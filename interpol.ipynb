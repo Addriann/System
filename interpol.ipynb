{
  "nbformat": 4,
  "nbformat_minor": 0,
  "metadata": {
    "colab": {
      "provenance": [],
      "collapsed_sections": [],
      "authorship_tag": "ABX9TyOd1JXC4L5o0Hp3NNXngomF",
      "include_colab_link": true
    },
    "kernelspec": {
      "name": "python3",
      "display_name": "Python 3"
    },
    "language_info": {
      "name": "python"
    }
  },
  "cells": [
    {
      "cell_type": "markdown",
      "metadata": {
        "id": "view-in-github",
        "colab_type": "text"
      },
      "source": [
        "<a href=\"https://colab.research.google.com/github/Addriann/System/blob/main/interpol.ipynb\" target=\"_parent\"><img src=\"https://colab.research.google.com/assets/colab-badge.svg\" alt=\"Open In Colab\"/></a>"
      ]
    },
    {
      "cell_type": "code",
      "execution_count": null,
      "metadata": {
        "id": "zovSFlB2zHTv"
      },
      "outputs": [],
      "source": [
        "def interpol(vct_input = np.ones(4, dtype=np.complex_), mk = 0, mu = 0, start_point = 0): # Gardner interpolator, used in the synchronization loop.\n",
        "  vct_4rk = np.array([vct_input[(mk-2)], vct_input[(mk-1)], vct_input[mk], vct_input[(mk+1)]], dtype=np.complex_) # Reference: Zhou, 2010, eq. 1. vct_4rk[2] relates to vct_interp[0] (present value)\n",
        "  X_kTi = \\\n",
        "  vct_4rk[0]*(-(1/6)*mu**3 + (1/6)*mu) + vct_4rk[1]*((1/2)*mu**3 + (1/2)*mu**2 - mu) + \\\n",
        "  vct_4rk[2]*((-1/2)*mu**3 - mu**2 + (1/2)*mu + 1) + vct_4rk[3]*((1/6)*mu**3 + (1/2)*mu**2 + (1/3)*mu)\n",
        "  return [X_kTi, (mk + mu)*(1-FREQ_SHIFT_FACTOR) + start_point] # Lagrange cubic interpolation output."
      ]
    }
  ]
}