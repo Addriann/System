{
  "nbformat": 4,
  "nbformat_minor": 0,
  "metadata": {
    "colab": {
      "provenance": [],
      "collapsed_sections": [],
      "authorship_tag": "ABX9TyNN7WEDpSI4yj8M2CUFR7iG",
      "include_colab_link": true
    },
    "kernelspec": {
      "name": "python3",
      "display_name": "Python 3"
    },
    "language_info": {
      "name": "python"
    }
  },
  "cells": [
    {
      "cell_type": "markdown",
      "metadata": {
        "id": "view-in-github",
        "colab_type": "text"
      },
      "source": [
        "<a href=\"https://colab.research.google.com/github/Addriann/System/blob/main/code.ipynb\" target=\"_parent\"><img src=\"https://colab.research.google.com/assets/colab-badge.svg\" alt=\"Open In Colab\"/></a>"
      ]
    },
    {
      "cell_type": "code",
      "execution_count": null,
      "metadata": {
        "id": "2LYU9jw5yxbW"
      },
      "outputs": [],
      "source": [
        "def code(vct_bitchain):\n",
        "  vct_coded_bits = np.array([])\n",
        "  for it in np.arange(0, len(vct_bitchain), COD_LEN):\n",
        "    symbol = ''.join((vct_bitchain[it:it+COD_LEN].astype(str)))\n",
        "    vct_coded_bits = np.append(vct_coded_bits, symbol)\n",
        "  return vct_coded_bits"
      ]
    }
  ]
}