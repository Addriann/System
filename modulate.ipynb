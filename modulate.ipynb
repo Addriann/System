{
  "nbformat": 4,
  "nbformat_minor": 0,
  "metadata": {
    "colab": {
      "provenance": [],
      "collapsed_sections": [],
      "authorship_tag": "ABX9TyPHGtF6Bzo6OdGmgTYGh/te",
      "include_colab_link": true
    },
    "kernelspec": {
      "name": "python3",
      "display_name": "Python 3"
    },
    "language_info": {
      "name": "python"
    }
  },
  "cells": [
    {
      "cell_type": "markdown",
      "metadata": {
        "id": "view-in-github",
        "colab_type": "text"
      },
      "source": [
        "<a href=\"https://colab.research.google.com/github/Addriann/System/blob/main/modulate.ipynb\" target=\"_parent\"><img src=\"https://colab.research.google.com/assets/colab-badge.svg\" alt=\"Open In Colab\"/></a>"
      ]
    },
    {
      "cell_type": "code",
      "execution_count": null,
      "metadata": {
        "id": "AH5f48fFzFfk"
      },
      "outputs": [],
      "source": [
        "def modulate(vct_coded_bits):\n",
        "  vct_ak = np.array([])\n",
        "  for it in np.arange(0, len(vct_coded_bits)):\n",
        "    ak = complex(ALPHABET[vct_coded_bits[it]])\n",
        "    vct_ak = np.append(vct_ak, ak)\n",
        "  return vct_ak"
      ]
    }
  ]
}