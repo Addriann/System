{
  "nbformat": 4,
  "nbformat_minor": 0,
  "metadata": {
    "colab": {
      "provenance": [],
      "collapsed_sections": [],
      "authorship_tag": "ABX9TyMFGYlWIXFGHM4lnXbKqBtk",
      "include_colab_link": true
    },
    "kernelspec": {
      "name": "python3",
      "display_name": "Python 3"
    },
    "language_info": {
      "name": "python"
    }
  },
  "cells": [
    {
      "cell_type": "markdown",
      "metadata": {
        "id": "view-in-github",
        "colab_type": "text"
      },
      "source": [
        "<a href=\"https://colab.research.google.com/github/Addriann/System/blob/main/nco.ipynb\" target=\"_parent\"><img src=\"https://colab.research.google.com/assets/colab-badge.svg\" alt=\"Open In Colab\"/></a>"
      ]
    },
    {
      "cell_type": "code",
      "execution_count": null,
      "metadata": {
        "id": "133IRn3TzD9T"
      },
      "outputs": [],
      "source": [
        "def nco(W, iter, mk, mu, NCO): # Gardner numerically controlled oscilator. The basepoint index mk is identified as n.  \n",
        "  W = -(W + 0.5) # Reference: SDR Travis CH6, adding at the input signal the constant 1/n = 0.5\n",
        "  NCO = np.round(np.mod(NCO - W, 1), 6)\n",
        "  #print('NCO: {}, W: {}'.format(NCO, W))\n",
        "  if (NCO - W) < 0:\n",
        "    mk = iter + 1\n",
        "    if W != 0:\n",
        "      mu = NCO/W\n",
        "  return [mk, mu, NCO, W] # The function returns the fractional interval mu."
      ]
    }
  ]
}