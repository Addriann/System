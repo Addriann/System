{
  "nbformat": 4,
  "nbformat_minor": 0,
  "metadata": {
    "colab": {
      "provenance": [],
      "collapsed_sections": [],
      "authorship_tag": "ABX9TyNclNV+rMOQA7GdIpblmgPr",
      "include_colab_link": true
    },
    "kernelspec": {
      "name": "python3",
      "display_name": "Python 3"
    },
    "language_info": {
      "name": "python"
    }
  },
  "cells": [
    {
      "cell_type": "markdown",
      "metadata": {
        "id": "view-in-github",
        "colab_type": "text"
      },
      "source": [
        "<a href=\"https://colab.research.google.com/github/Addriann/System/blob/main/source.ipynb\" target=\"_parent\"><img src=\"https://colab.research.google.com/assets/colab-badge.svg\" alt=\"Open In Colab\"/></a>"
      ]
    },
    {
      "cell_type": "code",
      "execution_count": null,
      "metadata": {
        "id": "rifCccZWzmUX"
      },
      "outputs": [],
      "source": [
        "def source(symb = 100):\n",
        "  if PHASE_REVERSAL == True:\n",
        "    vct_bitchain = np.tile(np.concatenate((np.tile(0,COD_LEN),np.tile(1,COD_LEN))), symb//2)\n",
        "  else:\n",
        "    #np.random.seed(0) # setting seed 1 \n",
        "    vct_bitchain = np.random.randint(0, 2, symb*COD_LEN)\n",
        "  return vct_bitchain"
      ]
    }
  ]
}