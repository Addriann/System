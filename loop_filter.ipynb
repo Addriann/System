{
  "nbformat": 4,
  "nbformat_minor": 0,
  "metadata": {
    "colab": {
      "provenance": [],
      "collapsed_sections": [],
      "authorship_tag": "ABX9TyON1lc5h0gATZWm2EbG65T8",
      "include_colab_link": true
    },
    "kernelspec": {
      "name": "python3",
      "display_name": "Python 3"
    },
    "language_info": {
      "name": "python"
    }
  },
  "cells": [
    {
      "cell_type": "markdown",
      "metadata": {
        "id": "view-in-github",
        "colab_type": "text"
      },
      "source": [
        "<a href=\"https://colab.research.google.com/github/Addriann/System/blob/main/loop_filter.ipynb\" target=\"_parent\"><img src=\"https://colab.research.google.com/assets/colab-badge.svg\" alt=\"Open In Colab\"/></a>"
      ]
    },
    {
      "cell_type": "code",
      "execution_count": null,
      "metadata": {
        "id": "g1Yx_hkezGII"
      },
      "outputs": [],
      "source": [
        "def loop_filter(error_n, integral_n): # Gardner loop filter\n",
        "  kp = 0.01 \n",
        "  ki = 0.0001 \n",
        "  integral_n = error_n + integral_n\n",
        "  W = kp*error_n + ki*integral_n - 1\n",
        "  return (W, integral_n)"
      ]
    }
  ]
}