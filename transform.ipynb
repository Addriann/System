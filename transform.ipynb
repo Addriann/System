{
  "nbformat": 4,
  "nbformat_minor": 0,
  "metadata": {
    "colab": {
      "provenance": [],
      "collapsed_sections": [],
      "authorship_tag": "ABX9TyPZYwAKP95VLWidaoP3hQ/k",
      "include_colab_link": true
    },
    "kernelspec": {
      "name": "python3",
      "display_name": "Python 3"
    },
    "language_info": {
      "name": "python"
    }
  },
  "cells": [
    {
      "cell_type": "markdown",
      "metadata": {
        "id": "view-in-github",
        "colab_type": "text"
      },
      "source": [
        "<a href=\"https://colab.research.google.com/github/Addriann/System/blob/main/transform.ipynb\" target=\"_parent\"><img src=\"https://colab.research.google.com/assets/colab-badge.svg\" alt=\"Open In Colab\"/></a>"
      ]
    },
    {
      "cell_type": "code",
      "execution_count": null,
      "metadata": {
        "id": "_F5yHTX_ziro"
      },
      "outputs": [],
      "source": [
        "def transform(input_x = np.array([[1],[2],[3]]), inv = False): # np.outer\n",
        "  if inv == False: # invert set to False\n",
        "  # Transforms array of one-element arrays to vector ( np.array([[a],[b],[c]]) to np.array([a, b, c]) )\n",
        "    inner_list = [] # define a list\n",
        "    for file in input_x: # for each file of a1 except the last one\n",
        "      for elem in file: # for each column and file of a3 (each element)\n",
        "        inner_list.append(elem) # transform an array of arrays to an appended list of elements\n",
        "    output_x = np.array(inner_list) # the list is ready to become a numpy array\n",
        "  else:\n",
        "  # Transforms vector to array of one-element arrays ( np.array([a, b, c]) to np.array([[a],[b],[c]]) )\n",
        "    output_x = np.array([[input_x[i]] for i in range(len(input_x))])\n",
        "  return output_x"
      ]
    }
  ]
}