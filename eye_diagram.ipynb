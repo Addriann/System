{
  "nbformat": 4,
  "nbformat_minor": 0,
  "metadata": {
    "colab": {
      "provenance": [],
      "collapsed_sections": [],
      "authorship_tag": "ABX9TyNfm1X3B4L5CTpREGh14JEu",
      "include_colab_link": true
    },
    "kernelspec": {
      "name": "python3",
      "display_name": "Python 3"
    },
    "language_info": {
      "name": "python"
    }
  },
  "cells": [
    {
      "cell_type": "markdown",
      "metadata": {
        "id": "view-in-github",
        "colab_type": "text"
      },
      "source": [
        "<a href=\"https://colab.research.google.com/github/Addriann/System/blob/main/eye_diagram.ipynb\" target=\"_parent\"><img src=\"https://colab.research.google.com/assets/colab-badge.svg\" alt=\"Open In Colab\"/></a>"
      ]
    },
    {
      "cell_type": "code",
      "execution_count": null,
      "metadata": {
        "id": "5r7WzMt-zJkg"
      },
      "outputs": [],
      "source": [
        "def eye_diagram(vct_input, eyes):\n",
        "\n",
        "  rest = len(vct_input) % (UPS_VALUE*(eyes+1))\n",
        "  real_vector = vct_input.real[0:-(rest+UPS_VALUE*(eyes+1))]\n",
        "  imag_vector = vct_input.imag[0:-(rest+UPS_VALUE*(eyes+1))]\n",
        "  real_reshaped = np.reshape(real_vector, [len(real_vector)//(UPS_VALUE*(eyes+1)), UPS_VALUE*(eyes+1)]).T\n",
        "  imag_reshaped = np.reshape(imag_vector, [len(imag_vector)//(UPS_VALUE*(eyes+1)), UPS_VALUE*(eyes+1)]).T\n",
        "  real_matrix = np.concatenate((real_reshaped, np.array([np.append(np.array([real_reshaped[0][1:]]), np.NaN)]) ), axis=0)[:-1]  \n",
        "  imag_matrix = np.concatenate((imag_reshaped, np.array([np.append(np.array([imag_reshaped[0][1:]]), np.NaN)]) ), axis=0)[:-1]\n",
        "\n",
        "  plt.figure(105, figsize=[2*6.4, 4.8])\n",
        "\n",
        "  plt.subplot(1,2,1)\n",
        "  plt.title('Real channel output')\n",
        "  #real_xaxis = np.arange(0, len(real_matrix))\n",
        "  #plt.plot(real_xaxis, real_matrix)\n",
        "  plt.plot(real_matrix)\n",
        "\n",
        "  plt.subplot(1,2,2)\n",
        "  plt.title('Imaginary channel output')\n",
        "  imag_xaxis = np.arange(0, len(imag_matrix))\n",
        "  plt.plot(imag_xaxis, imag_matrix)"
      ]
    }
  ]
}