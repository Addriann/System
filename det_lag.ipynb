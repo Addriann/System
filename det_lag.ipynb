{
  "nbformat": 4,
  "nbformat_minor": 0,
  "metadata": {
    "colab": {
      "provenance": [],
      "collapsed_sections": [],
      "authorship_tag": "ABX9TyNOyO3KegMlXV2B/oJ3+Y99",
      "include_colab_link": true
    },
    "kernelspec": {
      "name": "python3",
      "display_name": "Python 3"
    },
    "language_info": {
      "name": "python"
    }
  },
  "cells": [
    {
      "cell_type": "markdown",
      "metadata": {
        "id": "view-in-github",
        "colab_type": "text"
      },
      "source": [
        "<a href=\"https://colab.research.google.com/github/Addriann/System/blob/main/det_lag.ipynb\" target=\"_parent\"><img src=\"https://colab.research.google.com/assets/colab-badge.svg\" alt=\"Open In Colab\"/></a>"
      ]
    },
    {
      "cell_type": "code",
      "execution_count": null,
      "metadata": {
        "id": "zgNTU8yFyvbY"
      },
      "outputs": [],
      "source": [
        "def det_lag(v_tx=np.array([1,0,1,1]), v_rx=np.array([0,1,1,1]), show_fig = False):\n",
        "  if len(v_tx) > len(v_rx):\n",
        "    v_tx = v_tx[:len(v_rx)]\n",
        "  if len(v_tx) < len(v_rx):\n",
        "    v_rx = v_rx[:len(v_tx)]\n",
        "  v_xc = np.correlate(v_rx, v_tx, 'full')\n",
        "  ind_xc = np.argmax(v_xc)\n",
        "  lag = ind_xc+1 -len(v_tx)\n",
        "  if show_fig:\n",
        "    plt.plot(v_xc)\n",
        "    plt.grid(True)\n",
        "  return lag"
      ]
    }
  ]
}