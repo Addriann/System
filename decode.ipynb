{
  "nbformat": 4,
  "nbformat_minor": 0,
  "metadata": {
    "colab": {
      "provenance": [],
      "collapsed_sections": [],
      "authorship_tag": "ABX9TyO5/HbLHEXKo0MuNPR5jI0b",
      "include_colab_link": true
    },
    "kernelspec": {
      "name": "python3",
      "display_name": "Python 3"
    },
    "language_info": {
      "name": "python"
    }
  },
  "cells": [
    {
      "cell_type": "markdown",
      "metadata": {
        "id": "view-in-github",
        "colab_type": "text"
      },
      "source": [
        "<a href=\"https://colab.research.google.com/github/Addriann/System/blob/main/decode.ipynb\" target=\"_parent\"><img src=\"https://colab.research.google.com/assets/colab-badge.svg\" alt=\"Open In Colab\"/></a>"
      ]
    },
    {
      "cell_type": "code",
      "execution_count": null,
      "metadata": {
        "id": "gQkfUzibywUv"
      },
      "outputs": [],
      "source": [
        "def decode(vct_demodulated_bits):\n",
        "  decoded_bits_str = ''.join(list(vct_demodulated_bits))\n",
        "  vct_decoded_bits = np.array(list(decoded_bits_str)).astype(int)\n",
        "  return vct_decoded_bits"
      ]
    }
  ]
}