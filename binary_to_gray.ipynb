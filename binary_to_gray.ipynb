{
  "nbformat": 4,
  "nbformat_minor": 0,
  "metadata": {
    "colab": {
      "provenance": [],
      "collapsed_sections": [],
      "authorship_tag": "ABX9TyM5VTJNEfXhNUSsLMN8YKLO",
      "include_colab_link": true
    },
    "kernelspec": {
      "name": "python3",
      "display_name": "Python 3"
    },
    "language_info": {
      "name": "python"
    }
  },
  "cells": [
    {
      "cell_type": "markdown",
      "metadata": {
        "id": "view-in-github",
        "colab_type": "text"
      },
      "source": [
        "<a href=\"https://colab.research.google.com/github/Addriann/System/blob/main/binary_to_gray.ipynb\" target=\"_parent\"><img src=\"https://colab.research.google.com/assets/colab-badge.svg\" alt=\"Open In Colab\"/></a>"
      ]
    },
    {
      "cell_type": "code",
      "execution_count": null,
      "metadata": {
        "id": "7s2HSK49yx52"
      },
      "outputs": [],
      "source": [
        "def binary_to_gray(n):\n",
        "   #Convert Binary to Gray codeword and return it. Reference: https://www.sanfoundry.com/python-program-convert-binary-gray-code/\n",
        "    n = int(n, 2) # a binary number (second arg expresses base 2) is converted to int\n",
        "    n ^= (n >> 1)\n",
        "    return bin(n)[2:]"
      ]
    }
  ]
}