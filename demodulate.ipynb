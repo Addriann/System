{
  "nbformat": 4,
  "nbformat_minor": 0,
  "metadata": {
    "colab": {
      "provenance": [],
      "collapsed_sections": [],
      "authorship_tag": "ABX9TyNVKSkjqSGdII3/IMP/G6UH",
      "include_colab_link": true
    },
    "kernelspec": {
      "name": "python3",
      "display_name": "Python 3"
    },
    "language_info": {
      "name": "python"
    }
  },
  "cells": [
    {
      "cell_type": "markdown",
      "metadata": {
        "id": "view-in-github",
        "colab_type": "text"
      },
      "source": [
        "<a href=\"https://colab.research.google.com/github/Addriann/System/blob/main/demodulate.ipynb\" target=\"_parent\"><img src=\"https://colab.research.google.com/assets/colab-badge.svg\" alt=\"Open In Colab\"/></a>"
      ]
    },
    {
      "cell_type": "code",
      "execution_count": null,
      "metadata": {
        "id": "V8HrjPOQynQy"
      },
      "outputs": [],
      "source": [
        "def demodulate(vct_detected):\n",
        "  vct_demod = np.array([])\n",
        "  for symbol in vct_detected:\n",
        "    bits_demod = INV_MAP[symbol]\n",
        "    vct_demod = np.append(vct_demod, bits_demod)\n",
        "  return vct_demod"
      ]
    }
  ]
}